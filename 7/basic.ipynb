{
  "cells": [
    {
      "cell_type": "markdown",
      "metadata": {
        "id": "RAyaYausYnAT"
      },
      "source": [
        "# Basic Python\n",
        "\n",
        "Python is a high level general purpose programming language. Python is easy to read, understand and learn.\n",
        "\n",
        "You can run python code in different ways:\n",
        "\n",
        "* Python interpreter: line-by-line in a shell (like an advanced calculator)\n",
        "* IPython intepreter: **I**nteractive Python shell (with syntax highlighting etc)\n",
        "* Script: run all your code in a txt-file\n",
        "* Jupyter notebook: interactive web-based environment for combining text, code and plots\n",
        "\n",
        "We will use Jupyter notebooks in this course."
      ]
    },
    {
      "cell_type": "markdown",
      "metadata": {
        "id": "PKwtper1YnAY"
      },
      "source": [
        "## Jupyter\n",
        "\n",
        "A cell in jupyter is either \"code\" or \"markdown\". See [markdown cheat sheet](https://www.markdownguide.org/cheat-sheet/) for help on writing markdown text.\n",
        "\n",
        "You will be navigating Jupyter cells alot so it's important to learn a few [keyboard shortcuts](https://www.dataday.life/notes/jupyter-notebooks/cheat-sheet-jupyter-notebook-keyboard-shortcuts/):\n",
        "\n",
        "* 'Ctrl'+'Enter': run cell\n",
        "* 'Shift'+'Enter': run cell and jump to next\n",
        "\n",
        "You can exit \"edit mode\" (and enter \"command mode\") by pressing 'Esc', you can now press:\n",
        "\n",
        "* 'a': insert cell above\n",
        "* 'b': insert cell below\n",
        "* 'm': change cell to markdown\n",
        "* 'y': change cell to code\n",
        "* 'd'+'d': delete cell"
      ]
    },
    {
      "cell_type": "markdown",
      "metadata": {
        "id": "C_IFEo4YYnAY"
      },
      "source": [
        "### Code completion and help\n",
        "\n",
        "Jupyter lab can help you complete Python code, if you press \"tab\". If you have your cursor on a function, you can get the function signature by pressing \"shift\"+\"tab\"."
      ]
    },
    {
      "cell_type": "code",
      "execution_count": null,
      "metadata": {
        "id": "C4u9FmCpYnAZ",
        "outputId": "f8c18a11-abeb-422f-bab4-0940315de218"
      },
      "outputs": [
        {
          "name": "stdout",
          "output_type": "stream",
          "text": [
            "\u001b[0;31mDocstring:\u001b[0m\n",
            "Return the current working directory path.\n",
            "\n",
            "Examples\n",
            "--------\n",
            "::\n",
            "\n",
            "  In [9]: pwd\n",
            "  Out[9]: '/home/tsuser/sprint/ipython'\n",
            "\u001b[0;31mFile:\u001b[0m      ~/src/getting-started-with-mikeio/.venv/lib/python3.10/site-packages/IPython/core/magics/osm.py"
          ]
        }
      ],
      "source": [
        "# You can get help by writting ? before or after a function/variable\n",
        "pwd?"
      ]
    },
    {
      "cell_type": "markdown",
      "metadata": {
        "id": "_CwliDBHYnAd"
      },
      "source": [
        "### Current working directory\n",
        "\n",
        "When reading (or writing) files from the local file system, it is important to know your current path. You you print the current path by the command pwd:"
      ]
    },
    {
      "cell_type": "code",
      "execution_count": null,
      "metadata": {
        "id": "JDBy2DF8YnAd",
        "outputId": "6d0ba485-0b89-4d76-9629-5884530f6777"
      },
      "outputs": [
        {
          "data": {
            "text/plain": [
              "'/home/jan/src/getting-started-with-mikeio/mini_book'"
            ]
          },
          "execution_count": 21,
          "metadata": {},
          "output_type": "execute_result"
        }
      ],
      "source": [
        "pwd"
      ]
    },
    {
      "cell_type": "markdown",
      "metadata": {
        "id": "BzQbUfN1YnAe"
      },
      "source": [
        "We recommend that you start jupyter from the \"mini_book\" folder in this course as it will make the relative paths to the data files work."
      ]
    },
    {
      "cell_type": "markdown",
      "metadata": {
        "id": "IQdXSl8vYnAe"
      },
      "source": [
        "### Windows paths\n",
        "\n",
        "Backslash \\\\ is used to separate folders in Windows. In Python strings, backslash \\\\ is an escape character. You can write windows paths in Python the following ways:\n",
        "\n",
        "* use \"raw-string\" representation by pre-fixing the string with r, like this: r\"folder\\file.ext\"\n",
        "* use slash \"/\" (as on linux and http), like this: \"folder/file.ext\"\n",
        "* use double backslash, like this: \"folder\\\\\\\\\\file.ext\"\n",
        "\n",
        "We recommend using slash \"/\" where possible as it also works on linux."
      ]
    },
    {
      "cell_type": "markdown",
      "metadata": {
        "id": "tXM_igSaYnAf"
      },
      "source": [
        "## Variables"
      ]
    },
    {
      "cell_type": "code",
      "execution_count": null,
      "metadata": {
        "id": "Mxwc7FCfYnAf",
        "outputId": "a60a3299-05c1-4717-92f8-b500d6855a48"
      },
      "outputs": [
        {
          "data": {
            "text/plain": [
              "2.2"
            ]
          },
          "execution_count": 22,
          "metadata": {},
          "output_type": "execute_result"
        }
      ],
      "source": [
        "var1 = 2.2\n",
        "var1"
      ]
    },
    {
      "cell_type": "code",
      "execution_count": null,
      "metadata": {
        "id": "Q_0dvAP5YnAf"
      },
      "outputs": [],
      "source": [
        "var2 = var1"
      ]
    },
    {
      "cell_type": "code",
      "execution_count": null,
      "metadata": {
        "id": "HfSAvYaiYnAf",
        "outputId": "663cdd5b-8e38-4363-f125-23cb2ccbae8c"
      },
      "outputs": [
        {
          "data": {
            "text/plain": [
              "'3.3'"
            ]
          },
          "execution_count": 24,
          "metadata": {},
          "output_type": "execute_result"
        }
      ],
      "source": [
        "var2 = \"3.3\"    # now changed type\n",
        "var2"
      ]
    },
    {
      "cell_type": "code",
      "execution_count": null,
      "metadata": {
        "id": "qsZkif0kYnAg",
        "outputId": "11a8ead8-291c-409a-c333-209e0d8cc6c0"
      },
      "outputs": [
        {
          "data": {
            "text/plain": [
              "2.2"
            ]
          },
          "execution_count": 25,
          "metadata": {},
          "output_type": "execute_result"
        }
      ],
      "source": [
        "var1     # var1 stays the same, when we change var2 (numeric type)"
      ]
    },
    {
      "cell_type": "code",
      "execution_count": null,
      "metadata": {
        "id": "ldvDRZV1YnAg",
        "outputId": "dd9f7dc1-6160-4212-8c1f-3f0ecdb3babc"
      },
      "outputs": [
        {
          "data": {
            "text/plain": [
              "float"
            ]
          },
          "execution_count": 26,
          "metadata": {},
          "output_type": "execute_result"
        }
      ],
      "source": [
        "type(var1)"
      ]
    },
    {
      "cell_type": "markdown",
      "metadata": {
        "id": "bCQuXAZwYnAg"
      },
      "source": [
        "## Lists"
      ]
    },
    {
      "cell_type": "code",
      "execution_count": null,
      "metadata": {
        "id": "H_1xCh1-YnAh",
        "outputId": "8fe15fb5-5b4b-4a33-9809-39fd2d2397f5"
      },
      "outputs": [
        {
          "data": {
            "text/plain": [
              "[1.0, 2.0, 1.5]"
            ]
          },
          "execution_count": 27,
          "metadata": {},
          "output_type": "execute_result"
        }
      ],
      "source": [
        "# A list is created with [..,..]\n",
        "myvals = [1.0, 2.0, 1.5]\n",
        "myvals"
      ]
    },
    {
      "cell_type": "code",
      "execution_count": null,
      "metadata": {
        "id": "P5Ev0oDSYnAh",
        "outputId": "5cf8651b-16bf-43cc-d70e-1a79840a01e8"
      },
      "outputs": [
        {
          "data": {
            "text/plain": [
              "1.0"
            ]
          },
          "execution_count": 28,
          "metadata": {},
          "output_type": "execute_result"
        }
      ],
      "source": [
        "myvals[0]"
      ]
    },
    {
      "cell_type": "code",
      "execution_count": null,
      "metadata": {
        "id": "4TOs0tYIYnAh"
      },
      "outputs": [],
      "source": [
        "myvals2 = myvals     # this is *not* a copy!"
      ]
    },
    {
      "cell_type": "code",
      "execution_count": null,
      "metadata": {
        "id": "8IGMc6HWYnAh"
      },
      "outputs": [],
      "source": [
        "myvals2[1] = 3.3"
      ]
    },
    {
      "cell_type": "code",
      "execution_count": null,
      "metadata": {
        "id": "oFxWtKmzYnAh",
        "outputId": "c0234987-f50e-4748-8be2-474ea53bff34"
      },
      "outputs": [
        {
          "data": {
            "text/plain": [
              "[1.0, 3.3, 1.5]"
            ]
          },
          "execution_count": 31,
          "metadata": {},
          "output_type": "execute_result"
        }
      ],
      "source": [
        "myvals     # myvals has also changed! (myvals and myvals2 reference the same object)"
      ]
    },
    {
      "cell_type": "code",
      "execution_count": null,
      "metadata": {
        "id": "aFGy4TtTYnAi",
        "outputId": "5efd35c7-ac86-4306-d4b4-d763fed6e846"
      },
      "outputs": [
        {
          "data": {
            "text/plain": [
              "True"
            ]
          },
          "execution_count": 32,
          "metadata": {},
          "output_type": "execute_result"
        }
      ],
      "source": [
        "id(myvals) == id(myvals2)"
      ]
    },
    {
      "cell_type": "code",
      "execution_count": null,
      "metadata": {
        "id": "5W3_B4dKYnAi"
      },
      "outputs": [],
      "source": [
        "# lists can contain all sorts of different variables\n",
        "stuff = [5, 3.0, \"MIKE ZERO\", b'a', [1,2]]"
      ]
    },
    {
      "cell_type": "code",
      "execution_count": null,
      "metadata": {
        "id": "zSjjh-n_YnAi",
        "outputId": "c7a4817a-cdb8-4621-f345-5ee37c3664a7"
      },
      "outputs": [
        {
          "data": {
            "text/plain": [
              "int"
            ]
          },
          "execution_count": 34,
          "metadata": {},
          "output_type": "execute_result"
        }
      ],
      "source": [
        "type(stuff[0])"
      ]
    },
    {
      "cell_type": "markdown",
      "metadata": {
        "id": "561waW6CYnAi"
      },
      "source": [
        "## Tuple\n",
        "Tuples are similar to lists but immutable (once they are created they cannot be changed)."
      ]
    },
    {
      "cell_type": "code",
      "execution_count": null,
      "metadata": {
        "id": "wRPiTcogYnAi",
        "outputId": "92def139-0815-4478-a84a-5870d7233b19"
      },
      "outputs": [
        {
          "data": {
            "text/plain": [
              "(34, 0.2, 'txt')"
            ]
          },
          "execution_count": 35,
          "metadata": {},
          "output_type": "execute_result"
        }
      ],
      "source": [
        "my_tuple = (34, 0.2, \"txt\")\n",
        "my_tuple"
      ]
    },
    {
      "cell_type": "code",
      "execution_count": null,
      "metadata": {
        "id": "IB8VtIrqYnAj",
        "outputId": "d6a7f963-9005-4fa0-ec11-c36fcafae13f"
      },
      "outputs": [
        {
          "data": {
            "text/plain": [
              "'txt'"
            ]
          },
          "execution_count": 36,
          "metadata": {},
          "output_type": "execute_result"
        }
      ],
      "source": [
        "my_tuple[2]"
      ]
    },
    {
      "cell_type": "code",
      "execution_count": null,
      "metadata": {
        "id": "AukRc3b5YnAj"
      },
      "outputs": [],
      "source": [
        "# my_tuple[2] = 'new_txt'   # executing this line will fail"
      ]
    },
    {
      "cell_type": "markdown",
      "metadata": {
        "id": "e6hBn94pYnAj"
      },
      "source": [
        "## Dictionary"
      ]
    },
    {
      "cell_type": "code",
      "execution_count": null,
      "metadata": {
        "id": "BlECpDlSYnAj",
        "outputId": "4ac45ef1-3aca-493b-f45d-1002a1519687"
      },
      "outputs": [
        {
          "data": {
            "text/plain": [
              "{'banana': 4, 'apple': 7}"
            ]
          },
          "execution_count": 38,
          "metadata": {},
          "output_type": "execute_result"
        }
      ],
      "source": [
        "fruits = {'banana':4, 'apple':7}\n",
        "fruits"
      ]
    },
    {
      "cell_type": "code",
      "execution_count": null,
      "metadata": {
        "id": "W8ytwgv_YnAj",
        "outputId": "ab25cc29-3f2d-4d7b-8e3f-67616a29c4fe"
      },
      "outputs": [
        {
          "data": {
            "text/plain": [
              "{'banana': 4, 'apple': 7, 'orange': 9}"
            ]
          },
          "execution_count": 39,
          "metadata": {},
          "output_type": "execute_result"
        }
      ],
      "source": [
        "fruits['orange'] = 9\n",
        "fruits"
      ]
    },
    {
      "cell_type": "code",
      "execution_count": null,
      "metadata": {
        "id": "Y7svSCt9YnAj",
        "outputId": "306b03e6-011f-4ca9-89ce-d1c54fe81533"
      },
      "outputs": [
        {
          "data": {
            "text/plain": [
              "dict_keys(['banana', 'apple', 'orange'])"
            ]
          },
          "execution_count": 40,
          "metadata": {},
          "output_type": "execute_result"
        }
      ],
      "source": [
        "fruits.keys()"
      ]
    },
    {
      "cell_type": "code",
      "execution_count": null,
      "metadata": {
        "id": "slbaGiqsYnAj",
        "outputId": "acd4895c-4c9c-48ab-86e9-386ecdf87d49"
      },
      "outputs": [
        {
          "data": {
            "text/plain": [
              "4"
            ]
          },
          "execution_count": 41,
          "metadata": {},
          "output_type": "execute_result"
        }
      ],
      "source": [
        "fruits['banana']"
      ]
    },
    {
      "cell_type": "code",
      "execution_count": null,
      "metadata": {
        "id": "smSj0f8LYnAk",
        "outputId": "ee883942-7202-4c8f-a58d-b937e46f7073"
      },
      "outputs": [
        {
          "data": {
            "text/plain": [
              "dict_values([4, 7, 9])"
            ]
          },
          "execution_count": 42,
          "metadata": {},
          "output_type": "execute_result"
        }
      ],
      "source": [
        "fruits.values()"
      ]
    },
    {
      "cell_type": "code",
      "execution_count": null,
      "metadata": {
        "id": "88pclf-hYnAk",
        "outputId": "1c1833b5-ba5c-412e-a2c3-ff16a952aa6a"
      },
      "outputs": [
        {
          "data": {
            "text/plain": [
              "dict_items([('banana', 4), ('apple', 7), ('orange', 9)])"
            ]
          },
          "execution_count": 43,
          "metadata": {},
          "output_type": "execute_result"
        }
      ],
      "source": [
        "fruits.items()"
      ]
    },
    {
      "cell_type": "markdown",
      "metadata": {
        "id": "Kr7eIcqTYnAk"
      },
      "source": [
        "## Control structures\n",
        "\n",
        "Notice the colons and identation!\n",
        "\n",
        "* [Python conditions](https://www.w3schools.com/python/python_conditions.asp)\n",
        "* [Python for loop](https://www.w3schools.com/python/python_for_loops.asp)"
      ]
    },
    {
      "cell_type": "code",
      "execution_count": null,
      "metadata": {
        "id": "JlNwJhKPYnAk",
        "outputId": "65f9ecd1-f023-4560-8978-4ee1a5000790"
      },
      "outputs": [
        {
          "name": "stdout",
          "output_type": "stream",
          "text": [
            "You are ok\n"
          ]
        }
      ],
      "source": [
        "i_am = 'ok'\n",
        "if i_am == 'ok':\n",
        "    print('You are ok')\n",
        "elif i_am == 'great':\n",
        "    print('You are great')\n",
        "else:\n",
        "    print(\"I don't know how you are!\")"
      ]
    },
    {
      "cell_type": "code",
      "execution_count": null,
      "metadata": {
        "id": "m-0rX01LYnAk",
        "outputId": "76357322-0197-46eb-f2b8-2f843731055e"
      },
      "outputs": [
        {
          "name": "stdout",
          "output_type": "stream",
          "text": [
            "0\n",
            "1\n",
            "2\n"
          ]
        }
      ],
      "source": [
        "for j in range(3):\n",
        "    print(j)"
      ]
    },
    {
      "cell_type": "code",
      "execution_count": null,
      "metadata": {
        "id": "fhja__3RYnAl",
        "outputId": "e7d76c09-f3ea-4123-ad8c-9f3e246c9c85"
      },
      "outputs": [
        {
          "name": "stdout",
          "output_type": "stream",
          "text": [
            "Hi Carl!\n",
            "Hi Chan!\n",
            "Hi Clarice!\n"
          ]
        }
      ],
      "source": [
        "names = ['Carl','Chan','Clarice']\n",
        "for name in names:\n",
        "    print(f'Hi {name}!')"
      ]
    },
    {
      "cell_type": "markdown",
      "metadata": {
        "id": "GYfm4XRLYnAl"
      },
      "source": [
        "A loop can also be expressed using special syntax known as a list comprehension."
      ]
    },
    {
      "cell_type": "code",
      "execution_count": null,
      "metadata": {
        "id": "fPAJXwoQYnAq",
        "outputId": "4cea1151-6bce-4f3b-a5b2-d0c86335896b"
      },
      "outputs": [
        {
          "data": {
            "text/plain": [
              "['carl', 'chan', 'clarice']"
            ]
          },
          "execution_count": 47,
          "metadata": {},
          "output_type": "execute_result"
        }
      ],
      "source": [
        "lnames = [name.lower() for name in names]\n",
        "lnames"
      ]
    },
    {
      "cell_type": "markdown",
      "metadata": {
        "id": "W81oGP8mYnAr"
      },
      "source": [
        "## Functions\n",
        "\n",
        "It is very useful to create your own functions to collect code that belongs together in a function, which can be reused in several places in your code without copying and pasting the entire snippet."
      ]
    },
    {
      "cell_type": "code",
      "execution_count": null,
      "metadata": {
        "id": "0mVv89wjYnAr"
      },
      "outputs": [],
      "source": [
        "import re\n",
        "\n",
        "def clean_name(name):\n",
        "    \"Clean and short name\"\n",
        "    clean = re.sub('[^A-Za-z0-9]+', '', name)\n",
        "    short = clean[:15]\n",
        "    lower = short.lower()\n",
        "    return lower"
      ]
    },
    {
      "cell_type": "code",
      "execution_count": null,
      "metadata": {
        "id": "x_YBfeRxYnAr",
        "outputId": "a4657d62-7713-43fc-ad65-6ebb29a40bcc"
      },
      "outputs": [
        {
          "data": {
            "text/plain": [
              "'whatalousylongn'"
            ]
          },
          "execution_count": 49,
          "metadata": {},
          "output_type": "execute_result"
        }
      ],
      "source": [
        "clean_name(\"#What a lousy & long name\")"
      ]
    },
    {
      "cell_type": "code",
      "execution_count": null,
      "metadata": {
        "id": "3alsfDGWYnAs",
        "outputId": "4f53b14f-3044-4853-e4cb-d6562943fabe"
      },
      "outputs": [
        {
          "data": {
            "text/plain": [
              "'goodname'"
            ]
          },
          "execution_count": 50,
          "metadata": {},
          "output_type": "execute_result"
        }
      ],
      "source": [
        "clean_name(\"goodname\")"
      ]
    },
    {
      "cell_type": "code",
      "execution_count": null,
      "metadata": {
        "id": "G3dUa396YnAs"
      },
      "outputs": [],
      "source": [
        "long_and_ugly_names = [\"Wave Height # Modelled\", \"Wave Period # Modelled\", \"Wave Direction # Modelled\"]"
      ]
    },
    {
      "cell_type": "markdown",
      "metadata": {
        "id": "45Uodgb4YnAs"
      },
      "source": [
        "Combine a list comprehension with your own function"
      ]
    },
    {
      "cell_type": "code",
      "execution_count": null,
      "metadata": {
        "id": "UlsmlpRwYnAs",
        "outputId": "8afd8576-3172-4dfe-ae5e-5e9e37566c88"
      },
      "outputs": [
        {
          "data": {
            "text/plain": [
              "['waveheightmodel', 'waveperiodmodel', 'wavedirectionmo']"
            ]
          },
          "execution_count": 52,
          "metadata": {},
          "output_type": "execute_result"
        }
      ],
      "source": [
        "[clean_name(x) for x in long_and_ugly_names]"
      ]
    },
    {
      "cell_type": "code",
      "execution_count": null,
      "metadata": {
        "id": "eMLhITc4YnAs"
      },
      "outputs": [],
      "source": []
    }
  ],
  "metadata": {
    "interpreter": {
      "hash": "f4041ee05ab07c15354d6207e763f17a216c3f5ccf08906343c2b4fd3fa7a6fb"
    },
    "kernelspec": {
      "display_name": "Python 3 (ipykernel)",
      "language": "python",
      "name": "python3"
    },
    "language_info": {
      "codemirror_mode": {
        "name": "ipython",
        "version": 3
      },
      "file_extension": ".py",
      "mimetype": "text/x-python",
      "name": "python",
      "nbconvert_exporter": "python",
      "pygments_lexer": "ipython3",
      "version": "3.10.12"
    },
    "colab": {
      "provenance": []
    }
  },
  "nbformat": 4,
  "nbformat_minor": 0
}